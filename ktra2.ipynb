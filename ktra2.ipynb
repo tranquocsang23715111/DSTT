{
 "cells": [
  {
   "cell_type": "markdown",
   "id": "0c1b1abd-4214-4f68-b33e-2ab1a156771a",
   "metadata": {},
   "source": [
    "**Câu 1** (3 điểm). Cho ma trận:\n",
    "\n",
    "$$A=\\left( \\begin{matrix}\n",
    "5 & 4 & 0 & 0 & 3 & 0 \\\\\n",
    "4 & 5 & 0 & 2 & 2 & 0 \\\\\n",
    "0 & 0 & 4 & 5 & 0 & 3 \\\\\n",
    "0 & 0 & 5 & 4 & 0 & 4 \\\\\n",
    "2 & 3 & 0 & 0 & 4 & 0 \\\\\n",
    "\\end{matrix} \\right).$$\n",
    "\n",
    "a) Phân tích SVD của ma trận A.\n",
    "\n",
    "b) Giả sử 5 người dùng đánh giá 6 sản phẩm theo các mức độ từ 1 đến 5, người dùng thứ i đánh giá mức độ của sản phẩm j là $a_{ij}$, (trường hợp $a_{ij}$ = 0 là chưa đánh giá). Hãy dư đoán điểm đánh giá mà người dùng thứ nhất sẽ chấm cho sản phẩm 3 và 4."
   ]
  },
  {
   "cell_type": "code",
   "execution_count": 33,
   "id": "80625013-9648-43b5-973c-39bfe6b112d6",
   "metadata": {},
   "outputs": [
    {
     "name": "stdout",
     "output_type": "stream",
     "text": [
      "[[5 4 0 0 3 0]\n",
      " [4 5 0 2 2 0]\n",
      " [0 0 4 5 0 3]\n",
      " [0 0 5 4 0 4]\n",
      " [2 3 0 0 4 0]]\n"
     ]
    }
   ],
   "source": [
    "import numpy as np\n",
    "A = np.array([[5,4,0,0,3,0],[4,5,0,2,2,0],[0,0,4,5,0,3],[0,0,5,4,0,4],[2,3,0,0,4,0]])\n",
    "print(A)"
   ]
  },
  {
   "cell_type": "code",
   "execution_count": 34,
   "id": "97ff4e50-19bd-48e0-b976-0d8e83b441f6",
   "metadata": {},
   "outputs": [
    {
     "name": "stdout",
     "output_type": "stream",
     "text": [
      "U\n",
      " [[-0.55637643  0.32274211 -0.00463838  0.6613557  -0.38583666]\n",
      " [-0.5878278   0.19885243  0.58022414 -0.36571326  0.38014463]\n",
      " [-0.30266568 -0.60911493  0.11446335 -0.33197699 -0.64347642]\n",
      " [-0.31067101 -0.65677656 -0.20818578  0.37205723  0.53885079]\n",
      " [-0.3959555   0.23220421 -0.77902198 -0.42453167  0.04688341]]\n",
      "V^T\n",
      " [[-0.53468995 -0.57325977 -0.24942895 -0.35479939 -0.39964387 -0.19408056]\n",
      " [ 0.28340663  0.29408933 -0.56417846 -0.52025344  0.22632341 -0.43932777]\n",
      " [ 0.29915395  0.22062664 -0.23582344  0.36401166 -0.79658159 -0.19791764]\n",
      " [ 0.60122003 -0.27601851  0.32172944 -0.54575536 -0.26921839  0.29750795]\n",
      " [-0.42559818  0.67323303  0.16268692 -0.40782434 -0.28345514  0.30411993]]\n",
      "sigma\n",
      " [[11.0813833   0.          0.          0.          0.        ]\n",
      " [ 0.         10.13924303  0.          0.          0.        ]\n",
      " [ 0.          0.          2.47250855  0.          0.        ]\n",
      " [ 0.          0.          0.          1.6547388   0.        ]\n",
      " [ 0.          0.          0.          0.          0.73975393]]\n"
     ]
    }
   ],
   "source": [
    "U,S,VT = np.linalg.svd(A,full_matrices= False)\n",
    "sigma = np.diag(S)\n",
    "print('U\\n',U)\n",
    "print('V^T\\n',VT)\n",
    "print('sigma\\n',sigma)"
   ]
  },
  {
   "cell_type": "code",
   "execution_count": 35,
   "id": "00aa155d-cf0a-4515-9be4-56e314f45978",
   "metadata": {},
   "outputs": [
    {
     "name": "stdout",
     "output_type": "stream",
     "text": [
      "dự đoán người dùng 1 đánh giá sản phẩm 3:  1.0\n",
      "dự đoán người dùng 1 đánh giá sản phẩm 3:  1.0\n"
     ]
    }
   ],
   "source": [
    "#câu b:\n",
    "k = 3\n",
    "U_k = U[:,:k]\n",
    "S_k = np.diag(S[:k])\n",
    "VT_k = VT[:k,:]\n",
    "R_A = np.dot(np.dot(U_k,S_k),VT_k)\n",
    "\n",
    "maTranDanhGiaXapXi = np.clip(R_A,1,5)\n",
    "print('dự đoán người dùng 1 đánh giá sản phẩm 3: ',maTranDanhGiaXapXi[0][2])\n",
    "print('dự đoán người dùng 1 đánh giá sản phẩm 3: ',maTranDanhGiaXapXi[0][3])"
   ]
  },
  {
   "cell_type": "markdown",
   "id": "9dc3d071-460b-4cc1-ab5f-56a89144a4fa",
   "metadata": {},
   "source": [
    "**Câu 2** (4 điểm). Một nghiên cứu khảo sát hành vi chuyển mạng hoặc chuyển mang giữ số của người dùng di động tại Việt Nam cho thấy, trong mỗi tháng, tỷ lệ người dùng chuyển từ nhà mạng này sang nhà mạng khác như sau:\r\n",
    "\r\n",
    "Tỷ lệ người dùng chuyển từ mạng VinaPhone chuyển sang mang MobiFone, Viettel, Vietnammobile lần lượt là 0.1, 0.05, 0.02\r\n",
    "\r\n",
    "Tỷ lệ người dùng chuyến từ mạng MobiFone chuyển sang mạng VinaPhone, Viettel, Vietnammobile lần lượt là 0.15, 0.1, 0.02,\r\n",
    "\r\n",
    "Tỷ lệ người dùng chuyển từ mạng Viettel chuyển sang mạng VinaPhone, MobiFone, Vietnammobile lần lượt là 0.1, 0.15, 0.03,\r\n",
    "Tỷ lệ người dùng chuyển từ mạng Vietnammobile chuyển sang mạng VinaPhone, MobiFone, Viettel lần lượt là 0.3, 0.1, 0.15,\r\n",
    "Ban đầu, số lượng người dùng của các nhà mạng được ghi nhận như sau:\r\n",
    "\r\n",
    "VinaPhone: 40,000,000 người\r\n",
    "MobiFone: 28,000,000 người\r\n",
    "Viettel: 20,000,000 người\r\n",
    "Vietnamobile: 4,000,000 người\r\n",
    ") (2 điểm) Lập ma trận chuyển trạng thái 𝑃 (transition matrix) của quá trình này. Tính số lượng người dùng của từng nhà mạng sau 12 tháng. \r\n",
    "\r\n",
    "b) (2 điểm) Tính phân bố ổn định (stationary distribution) của quá trình chuyển mạng bằng phương pháp eigenvector. Dựa trên phân bố ổn định, tính số lượng người dùng ổn định của từng nhà mạng, biết tổng số người dùng không đổi"
   ]
  },
  {
   "cell_type": "code",
   "execution_count": 36,
   "id": "7095f64f-9c74-42b1-aecd-6545db3246ea",
   "metadata": {},
   "outputs": [
    {
     "name": "stdout",
     "output_type": "stream",
     "text": [
      "số lượng người dùng của các nhà mạng thay đổi sau 12 tháng là: \n",
      "VinaPhone:  41774992 người\n",
      "MobiPhone:  27465840 người\n",
      "Viettel:  19194074 người\n",
      "VietnamMobile:  3565094 người\n"
     ]
    }
   ],
   "source": [
    "A = np.array([[1-0.1-0.05-0.02,0.1,0.05,0.02],\n",
    "              [0.15,1-0.15-0.1-0.02,0.1,0.02],\n",
    "              [0.1,0.15,1-0.1-0.15-0.03,0.03],\n",
    "             [0.3,0.1,0.15,1-0.3-0.1-0.15]])\n",
    "p = np.array([40000000,28000000,20000000,4000000])\n",
    "print('số lượng người dùng của các nhà mạng thay đổi sau 12 tháng là: ')\n",
    "from numpy.linalg import matrix_power\n",
    "p_12 = p  @ matrix_power(A,12)\n",
    "print(f'VinaPhone: {p_12[0] : .0f} người')\n",
    "print(f'MobiPhone: {p_12[1] : .0f} người')\n",
    "print(f'Viettel: {p_12[2] : .0f} người')\n",
    "print(f'VietnamMobile: {p_12[3] : .0f} người')"
   ]
  },
  {
   "cell_type": "markdown",
   "id": "0047a4d9-3b77-4e7f-9cad-73230ea3e492",
   "metadata": {},
   "source": [
    "**Câu 3**. (3 điểm) Hàng năm, Trung tâm công nghệ thông tin quản lý các kỳ thi kiểm tra năng lực về tin học. Các kỳ thi này sẽ xét các sinh viên miễn tham gia khoa học \"Nhập môn tin học\" cho các sinh viên có đủ năng lực. Kết quả kỳ thi có thể được xếp vào một trong các trang thái sau\n",
    "\n",
    "Trạng thái 1: đạt yêu cầu của bài kiểm tra và được miễn tham gia khoá học\n",
    "\n",
    "Trạng thái 2: không đạt yêu cầu của bài kiểm tra trong lần thi thứ 3 và phải tham gia khoa học\n",
    "\n",
    "Trạng thái 3: không đạt yêu cầu của bài kiểm tra trong lần thi thứ 1.\n",
    "\n",
    "Trạng thái 4 không đạt yêu cầu của bài kiểm tra trong lần thi thứ 2\n",
    "\n",
    "Chuyên gia giám sát kỳ thi tổng hợp số liệu và xây dựng ma trận xác suất chuyển đổi như sau:\n",
    "\n",
    "$$A=\\left( \\begin{matrix}\n",
    "1 & 0 & 0 & 0 \\\\\n",
    "0 & 1 & 0 & 0 \\\\\n",
    "0.8 & 0 & 0.1 & 0.1 \\\\\n",
    "0.2 & 0.2 & 0.4 & 0.2 \\\\\n",
    "\\end{matrix} \\right).$$\n",
    "\n",
    "(Các phần tử trong ma trận P tuân theo thứ tư hàng và cột lần lượt là Trạng thái 1, 2, 3, 4).\n",
    " Hiện tại, có 200 sinh viên không đạt yêu cầu của bài kiểm tra trong lần thi thứ 1 và 50 sinh viên không đạt yêu cầu của bài kiểm tra trong lần thi thứ 2.\n",
    "\n",
    "a) Giả sử rằng tất cả 250 sinh viên nêu trên tham gia đợt thi tiếp theo, hỏi có bao nhiêu sinh viên phải tham gia khoá học.\n",
    "\n",
    "b) Một sinh viên sau kì thi đầu tiên ở Trạng thái 3. Hỏi sau ít nhất bao nhiêu lần thì nữa thì sinh viên này sẽ chắc chắn 90% đạt yêu cầu của bài kiểm tra và được miễn tham gia khoá học"
   ]
  },
  {
   "cell_type": "code",
   "execution_count": 40,
   "id": "e336c685-3358-4b3d-a413-17d93a9ffe05",
   "metadata": {},
   "outputs": [
    {
     "name": "stdout",
     "output_type": "stream",
     "text": [
      "số sinh viên phải tham gia khóa học là:  10.0\n",
      "[170.  10.  40.  30.]\n"
     ]
    }
   ],
   "source": [
    "A = np.array([[1,0,0,0],[0,1,0,0],[0.8,0,0.1,0.1],[0.2,0.2,0.4,0.2]])\n",
    "#vì sinh viên đều phải thi lại nên: có 200 sinh viên ở nhóm 3, 50 sinh viên ở nhóm 4:\n",
    "p = np.array([0,0,200,50])\n",
    "p1 = p @ matrix_power(A,1)\n",
    "print('số sinh viên phải tham gia khóa học là: ',p1[1])\n",
    "print(p1)"
   ]
  },
  {
   "cell_type": "code",
   "execution_count": 43,
   "id": "95668a0a-32de-40e0-878c-873f5a345a1c",
   "metadata": {},
   "outputs": [
    {
     "name": "stdout",
     "output_type": "stream",
     "text": [
      "sau 2 lần thi nữa thì sinh viên đó sẽ chắc chắn 90% đạt yêu cầu và được miễn tham gia khóa học\n"
     ]
    }
   ],
   "source": [
    "#câu b:\n",
    "#vì chỉ có 1 sinh viên đang ở trạng thái 3 nên:\n",
    "p_b_0 = np.array([0,0,1,0])\n",
    "for x in range(10):\n",
    "    pn = p_b_0 @ matrix_power(A,x)\n",
    "    if pn[0] >= 0.9:\n",
    "        break\n",
    "print(f'sau {x} lần thi nữa thì sinh viên đó sẽ chắc chắn 90% đạt yêu cầu và được miễn tham gia khóa học')"
   ]
  },
  {
   "cell_type": "code",
   "execution_count": null,
   "id": "a6ac5d60-6399-4222-a2d2-20d1f4989be1",
   "metadata": {},
   "outputs": [],
   "source": []
  }
 ],
 "metadata": {
  "kernelspec": {
   "display_name": "Python 3 (ipykernel)",
   "language": "python",
   "name": "python3"
  },
  "language_info": {
   "codemirror_mode": {
    "name": "ipython",
    "version": 3
   },
   "file_extension": ".py",
   "mimetype": "text/x-python",
   "name": "python",
   "nbconvert_exporter": "python",
   "pygments_lexer": "ipython3",
   "version": "3.11.7"
  }
 },
 "nbformat": 4,
 "nbformat_minor": 5
}
