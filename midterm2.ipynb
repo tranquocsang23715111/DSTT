{
 "cells": [
  {
   "cell_type": "markdown",
   "metadata": {
    "id": "GsccfSDERjBo"
   },
   "source": [
    "# ĐỀ KIỂM TRA GIỮA KỲ\n",
    "## Môn: Đại số tuyến tính tính toán\n",
    "## Ngày: 22/03/2024\n",
    "## Lớp: DHKHDL18A (nhóm TH1 & TH2). Thời gian: 60 phút"
   ]
  },
  {
   "cell_type": "code",
   "execution_count": 7,
   "metadata": {},
   "outputs": [],
   "source": [
    "import numpy as np\n",
    "from scipy.linalg import fractional_matrix_power"
   ]
  },
  {
   "cell_type": "markdown",
   "metadata": {},
   "source": [
    "**Câu 1.** (2 điểm) Trong lĩnh vực xử lý ngôn ngữ tự nhiên $NLP$, với danh sách từ vựng $\\mathcal{L}$ độ dài $\\ell$, mỗi câu văn có thể được mô tả bởi 1 vector $v\\in\\mathbb{R}^{\\ell}$ mà thành phần thứ $i$ cho biết số lần mà từ $d_i \\in \\mathcal{L}$ xuất hiện trong câu, còn được gọi là tọa độ của câu văn trong $\\mathcal{L}$. Xét các câu văn sau đây:\n",
    "> * $D_1$: *tôi là R*.\n",
    "> * $D_2$: *Python và tôi là bạn thân*.\n",
    "> * $D_3$: *tôi thích chạy tôi*.\n",
    "> * $D_4$: *tôi không thích C++*.\n",
    "> * $D_5$: *tôi thích bạn bạn thích tôi không*.\n",
    "\n",
    "Giả sử rằng $\\mathcal{L} =$ (*+, Python, R, thân, C, là, tôi, thích, chạy, không, và, bạn*) với $|\\mathcal{L}| = 12$ thì chẳng hạn câu văn $D_0$ = **Python thích R** sẽ có tọa độ là $$d_0 = (0,1,1,0,0,0,0,1,0,0,0,0).$$\n",
    "**a)** Xác định $d_1,d_2,d_3,d_4$ với $d_1,d_2,d_3,d_4$ lần lượt là toạ độ của các câu văn $D_1,D_2,D_3,D_4$ ở dạng vector trong không gian $12$ chiều ứng với từ vựng $\\mathcal{L}$.\n",
    "\n",
    "**b)** Tính khoảng cách Euclid đôi một giữa các câu văn trên."
   ]
  },
  {
   "cell_type": "code",
   "execution_count": 8,
   "metadata": {},
   "outputs": [
    {
     "name": "stdout",
     "output_type": "stream",
     "text": [
      "['tôi', 'là', 'R']\n",
      "['Python', 'và', 'tôi', 'là', 'bạn', 'thân']\n",
      "['tôi', 'thích', 'chạy', 'tôi']\n",
      "['tôi', 'không', 'thích', 'C++']\n",
      "D1 : [0. 0. 1. 0. 0. 1. 1. 0. 0. 0. 0. 0.]\n",
      "D2 : [0. 1. 0. 1. 0. 1. 1. 0. 0. 0. 1. 1.]\n",
      "D3 : [0. 0. 0. 0. 0. 0. 2. 1. 1. 0. 0. 0.]\n",
      "D4 : [2. 0. 0. 0. 1. 0. 1. 1. 0. 1. 0. 0.]\n",
      "khoảng cách giữa D1 và D2 là : 2.23606797749979\n",
      "khoảng cách giữa D1 và D3 là : 2.23606797749979\n",
      "khoảng cách giữa D1 và D4 là : 3.0\n",
      "khoảng cách giữa D2 và D3 là : 2.8284271247461903\n",
      "khoảng cách giữa D2 và D4 là : 3.4641016151377544\n",
      "khoảng cách giữa D3 và D4 là : 2.8284271247461903\n"
     ]
    }
   ],
   "source": [
    "\n",
    "from scipy.spatial.distance import euclidean\n",
    "\n",
    "# Danh sách từ vựng\n",
    "danhSachTuVung = ['+', 'Python', 'R', 'thân', 'C', 'là', 'tôi', 'thích', 'chạy', 'không', 'và', 'bạn']\n",
    "def timToaDoVector(doanVan, danhSachTuVung):\n",
    "    vector = np.zeros(len(danhSachTuVung))\n",
    "    danhSachTuTrongCau = doanVan.split()\n",
    "    print(danhSachTuTrongCau)\n",
    "    for tu in danhSachTuTrongCau:\n",
    "        if tu in danhSachTuVung:\n",
    "            vector[danhSachTuVung.index(tu)] += 1\n",
    "        else:\n",
    "            for _ in tu:\n",
    "                vector[danhSachTuVung.index(_)] +=1\n",
    "    return vector\n",
    "D1 = \"tôi là R\"\n",
    "D2 = \"Python và tôi là bạn thân\"\n",
    "D3 = \"tôi thích chạy tôi\"\n",
    "D4 = \"tôi không thích C++\"\n",
    "\n",
    "d1 = timToaDoVector(D1,danhSachTuVung)\n",
    "d2 = timToaDoVector(D2,danhSachTuVung)\n",
    "d3 = timToaDoVector(D3,danhSachTuVung)\n",
    "d4 = timToaDoVector(D4,danhSachTuVung)\n",
    "\n",
    "names = ['D1','D2','D3','D4']\n",
    "vectors = [d1,d2,d3,d4]\n",
    "for name,vec in zip(names,vectors):\n",
    "    print(f'{name} : {vec}')\n",
    "\n",
    "for i in range(len(names)):\n",
    "    for j in range(i + 1,len(names)):\n",
    "        khoangCach = euclidean(vectors[i],vectors[j])\n",
    "        print(f'khoảng cách giữa {names[i]} và {names[j]} là : {khoangCach}')\n",
    "    "
   ]
  },
  {
   "cell_type": "markdown",
   "metadata": {},
   "source": [
    "**Câu 2.** (4 điểm) Cho hàm số $f:\\mathbb{R}^2\\to \\mathbb{R}$ được xác định bởi $$f(x_1,x_2)=\\dfrac{x_1^2}{x_2}.$$\n",
    "\n",
    "**a)** Xác định ma trận Hessian $\\nabla^2f$ và chứng minh rằng $\\nabla^2f$ là ma trận nửa xác định dương.\n",
    "\n",
    "**b)** Cho hai vector $a=(-2,-1), b=(-2,0,1)$ và ma trận $A$ xác định bởi $$A=\\begin{bmatrix} \\nabla^2f(-1/2,1)\\\\a \\end{bmatrix}.$$\n",
    "Tìm điểm tối ưu và giá trị tối ưu của bài toán sau $$\\min_{x\\in\\mathbb{R}^2}\\|Ax-b\\|_2^2.$$\n"
   ]
  },
  {
   "cell_type": "code",
   "execution_count": 9,
   "metadata": {},
   "outputs": [
    {
     "name": "stdout",
     "output_type": "stream",
     "text": [
      "Ma trận Hessian tại (-1/2,1):\n",
      " [[2.  1. ]\n",
      " [1.  0.5]]\n",
      "Giá trị riêng: [2.5 0. ]\n",
      "Hessian là ma trận nửa xác định dương.\n"
     ]
    }
   ],
   "source": [
    "import numpy as np\n",
    "\n",
    "# Định nghĩa hàm số f(x1, x2)\n",
    "def f(x1, x2):\n",
    "    return x1**2 / x2\n",
    "\n",
    "# Hàm tính ma trận Hessian tại một điểm (x1, x2)\n",
    "def hessian_f(x1, x2):\n",
    "    return np.array([[2 / x2, -2 * x1 / x2**2],\n",
    "                     [-2 * x1 / x2**2, 2 * x1**2 / x2**3]])\n",
    "\n",
    "# Tính ma trận Hessian tại một điểm cụ thể\n",
    "x1_val, x2_val = -1/2, 1\n",
    "Hessian = hessian_f(x1_val, x2_val)\n",
    "print(\"Ma trận Hessian tại (-1/2,1):\\n\", Hessian)\n",
    "\n",
    "# Kiểm tra tính nửa xác định dương\n",
    "eigvals = np.linalg.eigvals(Hessian)\n",
    "print(\"Giá trị riêng:\", eigvals)\n",
    "\n",
    "if np.all(eigvals >= 0):\n",
    "    print(\"Hessian là ma trận nửa xác định dương.\")\n",
    "else:\n",
    "    print(\"Hessian không phải là ma trận nửa xác định dương.\")\n",
    "\n"
   ]
  },
  {
   "cell_type": "code",
   "execution_count": 10,
   "metadata": {},
   "outputs": [
    {
     "name": "stdout",
     "output_type": "stream",
     "text": [
      "Ma trận Hessian:\n",
      "\n",
      "Matrix([[2/x2, -2*x1/x2**2], [-2*x1/x2**2, 2*x1**2/x2**3]])\n",
      "Ma trận Hessian tại (-1/2,1):\n",
      " [[2.  1. ]\n",
      " [1.  0.5]]\n",
      "Giá trị riêng của Hessian: [2.5 0. ]\n",
      "Ma trận Hessian là nửa xác định dương\n",
      "Nghiệm tối ưu x: [-0.53333333 -0.26666667]\n",
      "Giá trị tối ưu ||Ax - b||^2: 1.0\n"
     ]
    }
   ],
   "source": [
    "import numpy as np\n",
    "from sympy import symbols, Matrix, hessian\n",
    "from scipy.linalg import lstsq\n",
    "\n",
    "# Khai báo biến\n",
    "x1, x2 = symbols('x1 x2')\n",
    "\n",
    "# Định nghĩa hàm f\n",
    "ham_f = (x1**2) / x2\n",
    "\n",
    "# a) Tính ma trận Hessian\n",
    "ma_tran_Hessian = hessian(ham_f, (x1, x2))\n",
    "print(\"Ma trận Hessian:\\n\")\n",
    "print(ma_tran_Hessian)\n",
    "\n",
    "# Kiểm tra tính nửa xác định dương\n",
    "H_tai_diem = ma_tran_Hessian.subs({x1: -1/2, x2: 1})  # Thay giá trị (-1/2,1)\n",
    "H_np = np.array(H_tai_diem).astype(np.float64)\n",
    "print(\"Ma trận Hessian tại (-1/2,1):\\n\", H_np)\n",
    "\n",
    "# Kiểm tra giá trị riêng\n",
    "gia_tri_rieng = np.linalg.eigvals(H_np)\n",
    "print(\"Giá trị riêng của Hessian:\", gia_tri_rieng)\n",
    "print(\"Ma trận Hessian là nửa xác định dương\" if np.all(gia_tri_rieng >= 0) else \"Không phải nửa xác định dương\")\n",
    "\n",
    "# b) Giải bài toán tối ưu\n",
    "ma_tran_A = np.vstack([H_np, [-2, -1]])  # Ma trận A\n",
    "vector_b = np.array([-2, 0, 1])  # Vector b\n",
    "\n",
    "# Giải bài toán tối ưu: Ax = b theo norm bậc 2\n",
    "nghiem_toi_uu, _, _, _ = lstsq(ma_tran_A, vector_b)\n",
    "print(\"Nghiệm tối ưu x:\", nghiem_toi_uu)\n",
    "print(\"Giá trị tối ưu ||Ax - b||^2:\", np.linalg.norm(ma_tran_A @ nghiem_toi_uu - vector_b)**2)"
   ]
  },
  {
   "cell_type": "markdown",
   "metadata": {},
   "source": [
    "**Câu 3.** (4 điểm) Theo kết quả nghiên cứu thị trường của hai cửa hàng AT và CT, người ta thấy rằng: Tất cả khách hàng mua hàng ở cửa hàng AT tại một tuần cụ thể thì trong tuần tiếp theo $90\\%$ mua tiếp tục ở AT trong khi $10\\%$ chuyển sang mua ở cửa hàng CT. Giả sử từ một số liệu tương tự cho các khách hàng mua hàng ở CT tại một tuần cụ thể thì trong tuần tiếp theo $80\\%$ mua tiếp tại cửa hàng CT trong khi $20\\%$ chuyển đến mua ở cửa hàng AT.\n",
    "\n",
    "a) Tìm ma trận chuyển trạng thái của hai cửa hàng trên.\n",
    "\n",
    "b) Xác định tỉ lệ cân bằng dừng.\n",
    "\n",
    "c) Giả sử hôm nay ông B mua hàng ở AT, tính xác suất ông B mua hàng ở AT sau 2 ngày nữa.\n",
    "\n",
    "d) Giả sử hôm nay ông B mua hàng ở CT, thì xác suất ông B sau $1$ tháng ($30$ ngày) nữa sẽ chuyển qua AT mua hàng là bao nhiêu?   "
   ]
  },
  {
   "cell_type": "code",
   "execution_count": 11,
   "metadata": {},
   "outputs": [
    {
     "name": "stdout",
     "output_type": "stream",
     "text": [
      "ma trận chuyển trạng thái: \n",
      " [[0.9 0.1]\n",
      " [0.2 0.8]]\n"
     ]
    }
   ],
   "source": [
    "#ma trận chuyển trạng thái:\n",
    "arr_trangThai = np.array([[0.9, 0.1],[0.2,0.8]])\n",
    "print('ma trận chuyển trạng thái: \\n',arr_trangThai)"
   ]
  },
  {
   "cell_type": "code",
   "execution_count": 12,
   "metadata": {},
   "outputs": [
    {
     "name": "stdout",
     "output_type": "stream",
     "text": [
      "[0.66666667 0.33333333]\n"
     ]
    }
   ],
   "source": [
    "#tỉ lệ cân bằng dừng\n",
    "maTranTimTiLeCanBangDung = np.array([[1,1],[0.1,-0.2]])\n",
    "ketqua = np.array([1,0])\n",
    "\n",
    "\n",
    "ketqua = ketqua.T\n",
    "tiLeCanBangDung = np.linalg.solve(maTranTimTiLeCanBangDung,ketqua)\n",
    "print(tiLeCanBangDung)"
   ]
  },
  {
   "cell_type": "code",
   "execution_count": 13,
   "metadata": {},
   "outputs": [
    {
     "name": "stdout",
     "output_type": "stream",
     "text": [
      "tỉ lệ mua ở at sau 2 ngày:  0.830\n"
     ]
    }
   ],
   "source": [
    "    #xac xuat de b mua hang o do sau 2 ngay nua la:\n",
    "#vì ông b đã mua ở cửa hàng a nên arr_b là:\n",
    "arr_b = np.array([1,0])\n",
    "\n",
    "tiLeSau2Ngay = arr_b @ fractional_matrix_power(arr_trangThai, 2)\n",
    "print(f'tỉ lệ mua ở at sau 2 ngày: {tiLeSau2Ngay[0]: .3f}')"
   ]
  },
  {
   "cell_type": "code",
   "execution_count": 14,
   "metadata": {},
   "outputs": [
    {
     "name": "stdout",
     "output_type": "stream",
     "text": [
      "tỉ lệ chuyển sang cửa hàng at là: 0.333\n"
     ]
    }
   ],
   "source": [
    "#vì ổng mua ở ct nên:\n",
    "arr_b_ct = np.array([0,1])\n",
    "tileSau30Ngay = arr_b_ct @ np.linalg.matrix_power(arr_trangThai,30)\n",
    "print(f'tỉ lệ chuyển sang cửa hàng at là: {tileSau30Ngay[1]:.3f}')"
   ]
  },
  {
   "cell_type": "markdown",
   "metadata": {},
   "source": [
    "## --------------------------------------- Hết --------------------------------------"
   ]
  },
  {
   "cell_type": "markdown",
   "metadata": {},
   "source": [
    "### Lưu ý: Sinh viên không được sử dụng internet. Giám thị không giải thích gì thêm."
   ]
  },
  {
   "cell_type": "code",
   "execution_count": null,
   "metadata": {},
   "outputs": [],
   "source": []
  },
  {
   "cell_type": "code",
   "execution_count": null,
   "metadata": {},
   "outputs": [],
   "source": []
  },
  {
   "cell_type": "code",
   "execution_count": null,
   "metadata": {},
   "outputs": [],
   "source": []
  },
  {
   "cell_type": "code",
   "execution_count": null,
   "metadata": {},
   "outputs": [],
   "source": []
  }
 ],
 "metadata": {
  "colab": {
   "provenance": []
  },
  "kernelspec": {
   "display_name": "Python 3 (ipykernel)",
   "language": "python",
   "name": "python3"
  },
  "language_info": {
   "codemirror_mode": {
    "name": "ipython",
    "version": 3
   },
   "file_extension": ".py",
   "mimetype": "text/x-python",
   "name": "python",
   "nbconvert_exporter": "python",
   "pygments_lexer": "ipython3",
   "version": "3.11.7"
  }
 },
 "nbformat": 4,
 "nbformat_minor": 4
}
