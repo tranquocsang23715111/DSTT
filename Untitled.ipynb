{
 "cells": [
  {
   "cell_type": "code",
   "execution_count": 8,
   "id": "9fb34a8c-7c76-45c5-b73c-cd0f3200ff0a",
   "metadata": {},
   "outputs": [
    {
     "name": "stdout",
     "output_type": "stream",
     "text": [
      "[[0.7 0.2 0.1]\n",
      " [0.6 0.3 0.1]\n",
      " [0.5 0.3 0.2]]\n"
     ]
    }
   ],
   "source": [
    "import numpy as np\n",
    "\n",
    "maTranChuyenTrangThai =np.array([[0.7,0.1,0.2],[0.3,0.1,0.6],[0.3,0.5,0.2]])\n",
    "print(maTranChuyenTrangThai)"
   ]
  },
  {
   "cell_type": "code",
   "execution_count": 15,
   "id": "3294b2a0-69fa-4fc8-9457-20cd1bb287a0",
   "metadata": {},
   "outputs": [
    {
     "name": "stdout",
     "output_type": "stream",
     "text": [
      "[[-0.3  0.3  0.3]\n",
      " [ 0.1  0.1 -0.5]\n",
      " [ 1.   1.   1. ]]\n",
      "[0 0 1]\n",
      "[0.5        0.33333333 0.16666667]\n"
     ]
    }
   ],
   "source": [
    "B = np.array([[0.7-1,0.3,0.3],[0.1,0.1,0.5-1],[1,1,1]])\n",
    "print(B)\n",
    "ketQua = np.array([0,0,1])\n",
    "print(ketQua)\n",
    "ketQua = np.transpose(ketQua)\n",
    "tiLeCanBangDung = np.linalg.solve(B,ketQua)\n",
    "print(tiLeCanBangDung)"
   ]
  },
  {
   "cell_type": "code",
   "execution_count": 19,
   "id": "6b8dafa0-9d12-4506-abaa-b9c62e982ea4",
   "metadata": {},
   "outputs": [
    {
     "name": "stdout",
     "output_type": "stream",
     "text": [
      "xác xuất a mua ở cửa hàng a sau 2 ngày: 0.66\n"
     ]
    }
   ],
   "source": [
    "#xác xuất mua ở A mua ở at và 2 tuần sau vẫn mua ở at\n",
    "#vì tuần này a đã mua ở at nên \n",
    "arrA_inAT_today = np.array([1,0,0])\n",
    "#xác xuất 2 tuần sau a vẫn mua:\n",
    "P_arrA_inAT_today = arrA_inAT_today @ np.linalg.matrix_power(maTranChuyenTrangThai,2)\n",
    "print(f'xác xuất a mua ở cửa hàng a sau 2 ngày: {P_arrA_inAT_today[0]:.2f}')"
   ]
  },
  {
   "cell_type": "markdown",
   "id": "cdb9bca7-73e6-49c8-bb4f-6e41b87c04b9",
   "metadata": {},
   "source": [
    "**Câu 1.** (2 điểm) Trong lĩnh vực xử lý ngôn ngữ tự nhiên $NLP$, với danh sách từ vựng $\\mathcal{L}$ độ dài $\\ell$, mỗi câu văn có thể được mô tả bởi 1 vector $v\\in\\mathbb{R}^{\\ell}$ mà thành phần thứ $i$ cho biết số lần mà từ $d_i \\in \\mathcal{L}$ xuất hiện trong câu, còn được gọi là tọa độ của câu văn trong $\\mathcal{L}$. Xét các câu văn sau đây:\n",
    "> * $D_1$: *tôi là R*.\n",
    "> * $D_2$: *Python và tôi là bạn thân*.\n",
    "> * $D_3$: *tôi thích chạy tôi*.\n",
    "> * $D_4$: *tôi không thích C++*.\n",
    "> * $D_5$: *tôi thích bạn bạn thích tôi không*.\n",
    "\n",
    "Giả sử rằng $\\mathcal{L} =$ (*+, Python, R, thân, C, là, tôi, thích, chạy, không, và, bạn*) với $|\\mathcal{L}| = 12$ thì chẳng hạn câu văn $D_0$ = **Python thích R** sẽ có tọa độ là $$d_0 = (0,1,1,0,0,0,0,1,0,0,0,0).$$\n",
    "**a)** Xác định $d_1,d_2,d_3,d_4$ với $d_1,d_2,d_3,d_4$ lần lượt là toạ độ của các câu văn $D_1,D_2,D_3,D_4$ ở dạng vector trong không gian $12$ chiều ứng với từ vựng $\\mathcal{L}$.\n",
    "\n",
    "**b)** Tính khoảng cách Euclid đôi một giữa các câu văn trên."
   ]
  },
  {
   "cell_type": "code",
   "execution_count": 28,
   "id": "15cedb48-cef2-4541-95de-0a253f257d0d",
   "metadata": {},
   "outputs": [
    {
     "name": "stdout",
     "output_type": "stream",
     "text": [
      "D1: [0. 0. 1. 0. 0. 1. 1. 0. 0. 0. 0. 0.]\n",
      "D2: [0. 1. 0. 1. 0. 1. 1. 0. 0. 0. 1. 1.]\n",
      "D3: [0. 0. 0. 0. 0. 0. 2. 1. 1. 0. 0. 0.]\n",
      "D4: [0. 0. 0. 0. 1. 0. 1. 1. 0. 1. 0. 0.]\n",
      "khoảng cách của D1 và D2 là:  2.23607\n",
      "khoảng cách của D1 và D3 là:  2.23607\n",
      "khoảng cách của D1 và D4 là:  2.23607\n",
      "khoảng cách của D2 và D3 là:  2.82843\n",
      "khoảng cách của D2 và D4 là:  2.82843\n",
      "khoảng cách của D3 và D4 là:  2.00000\n"
     ]
    }
   ],
   "source": [
    "from scipy.spatial.distance import euclidean\n",
    "danhSachTuVung = ['+','Python', 'R','thân','C', 'là', 'tôi', 'thích', 'chạy', 'không', 'và', 'bạn']\n",
    "def maHoaTu(doanVan, danhSachTuVung):\n",
    "    vector = np.zeros(len(danhSachTuVung))\n",
    "    danhSachTuTrongCau = doanVan.split()\n",
    "    for tu in danhSachTuTrongCau:\n",
    "        vector[danhSachTuVung.index(tu)] += 1\n",
    "    return vector\n",
    "D1 = \"tôi là R\"\n",
    "D2 = \"Python và tôi là bạn thân\"\n",
    "D3 = \"tôi thích chạy tôi\"\n",
    "D4 = \"tôi không thích C\"\n",
    "d1 = maHoaTu(D1,danhSachTuVung)\n",
    "d2 = maHoaTu(D2,danhSachTuVung)\n",
    "d3 = maHoaTu(D3,danhSachTuVung)\n",
    "d4 = maHoaTu(D4,danhSachTuVung)\n",
    "names = ['D1','D2','D3','D4']\n",
    "vectors = [d1,d2,d3,d4]\n",
    "for name,vec in zip(names,vectors):\n",
    "    print(f'{name}: {vec}')\n",
    "\n",
    "\n",
    "#câu b: tìm khoảng cách euclic\n",
    "for i in range(len(names)):\n",
    "    for j in range(i+1,len(names)):\n",
    "        khoangCach = euclidean(vectors[i],vectors[j])\n",
    "        print(f'khoảng cách của {names[i]} và {names[j]} là: {khoangCach: .5f}')"
   ]
  },
  {
   "cell_type": "markdown",
   "id": "e4fee4ba-0d2a-455d-bd94-0e3e3385ced4",
   "metadata": {},
   "source": [
    "**Câu 2.** (4 điểm) Cho hàm số $f:\\mathbb{R}^2\\to \\mathbb{R}$ được xác định bởi $$f(x_1,x_2)=\\dfrac{x_1^2}{x_2}.$$\n",
    "\n",
    "**a)** Xác định ma trận Hessian $\\nabla^2f$ và chứng minh rằng $\\nabla^2f$ là ma trận nửa xác định dương.\n",
    "\n",
    "**b)** Cho hai vector $a=(-2,-1), b=(-2,0,1)$ và ma trận $A$ xác định bởi $$A=\\begin{bmatrix} \\nabla^2f(-1/2,1)\\\\a \\end{bmatrix}.$$\n",
    "Tìm điểm tối ưu và giá trị tối ưu của bài toán sau $$\\min_{x\\in\\mathbb{R}^2}\\|Ax-b\\|_2^2.$$"
   ]
  },
  {
   "cell_type": "code",
   "execution_count": 33,
   "id": "6dffd212-f7aa-42e5-82f1-38d8f181ea47",
   "metadata": {},
   "outputs": [
    {
     "name": "stdout",
     "output_type": "stream",
     "text": [
      "[[2.  1. ]\n",
      " [1.  0.5]]\n",
      "giá trị riêng:  [2.5 0. ]\n",
      "là ma trận xác định dương\n"
     ]
    }
   ],
   "source": [
    "def timMaTranHesian(x1,x2):\n",
    "    return np.array([[2/x2 , -2*x1/x2**2],[-2*x1/x2**2, (2*(x1**2))/x2**3]])\n",
    "#cho 1 ma trận bất kì: \n",
    "arr = timMaTranHesian(-1/2,1)\n",
    "print(arr)\n",
    "\n",
    "#kiểm tra có phải ma trận xác định dương hay không:\n",
    "e = np.linalg.eigvals(arr)\n",
    "print('giá trị riêng: ',e)\n",
    "if np.all(e >= 0):\n",
    "    print('là ma trận xác định dương')\n",
    "else:\n",
    "    print('không phải ma trận xác định dương')\n"
   ]
  },
  {
   "cell_type": "code",
   "execution_count": null,
   "id": "9584823e-79bc-43e3-a4f2-fe8f727bd0da",
   "metadata": {},
   "outputs": [],
   "source": []
  }
 ],
 "metadata": {
  "kernelspec": {
   "display_name": "Python 3 (ipykernel)",
   "language": "python",
   "name": "python3"
  },
  "language_info": {
   "codemirror_mode": {
    "name": "ipython",
    "version": 3
   },
   "file_extension": ".py",
   "mimetype": "text/x-python",
   "name": "python",
   "nbconvert_exporter": "python",
   "pygments_lexer": "ipython3",
   "version": "3.11.7"
  }
 },
 "nbformat": 4,
 "nbformat_minor": 5
}
