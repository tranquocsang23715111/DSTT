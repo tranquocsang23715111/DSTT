{
 "cells": [
  {
   "cell_type": "markdown",
   "metadata": {
    "id": "GsccfSDERjBo"
   },
   "source": [
    "# BÀI THỰC HÀNH SỐ 2\n",
    "## Môn: Đại số tuyến tính tính toán\n",
    "## Ngày: 21/04/2025\n",
    "## Lớp: DHKHDL19A (nhóm TH 1,2). Thời gian: 45 phút"
   ]
  },
  {
   "cell_type": "markdown",
   "metadata": {},
   "source": [
    "Họ và tên: Trần Quốc Sang\n",
    "\n",
    "MSSV: 23715111"
   ]
  },
  {
   "cell_type": "markdown",
   "metadata": {},
   "source": [
    "**Câu 1. (4 điểm)**  Cho hàm số $f:\\mathbb{R}^2\\to \\mathbb{R}$ được xác định bởi $$f(x_1,x_2)=\\dfrac{x_1^2}{x_2}.$$\n",
    "\n",
    "**a)** Xác định ma trận Hessian $\\nabla^2f$.\n",
    "\n",
    "**b)** Cho hai vector $a=(-2,-1), b=(-2,0,1)$ và ma trận $A$ xác định bởi $$A=\\begin{bmatrix} \\nabla^2f(-1/2,1)\\\\a \\end{bmatrix}.$$\n",
    "Tìm điểm tối ưu và giá trị tối ưu của bài toán sau $$\\min_{x\\in\\mathbb{R}^2}\\|Ax-b\\|_2^2.$$"
   ]
  },
  {
   "cell_type": "code",
   "execution_count": 1,
   "metadata": {},
   "outputs": [
    {
     "name": "stdout",
     "output_type": "stream",
     "text": [
      "[[2/x2 -2*x1/x2**2]\n",
      " [-2*x1/x2**2 2*x1**2/x2**3]]\n"
     ]
    }
   ],
   "source": [
    "from sympy import symbols\n",
    "import numpy as np\n",
    "x1 , x2 = symbols('x1 x2')\n",
    "def hesian(x1,x2):\n",
    "    hesian = np.array([[2/x2,(-2*x1)/(x2**2)],\n",
    "                         [(-2*x1)/(x2**2),(2*x1**2)/x2**3]])\n",
    "    return hesian\n",
    "print(hesian(x1,x2))"
   ]
  },
  {
   "cell_type": "code",
   "execution_count": 2,
   "metadata": {},
   "outputs": [
    {
     "name": "stdout",
     "output_type": "stream",
     "text": [
      "[[2.  1. ]\n",
      " [1.  0.5]]\n"
     ]
    }
   ],
   "source": [
    "#câu b:\n",
    "hesian_A = hesian(-1/2,1)\n",
    "\n",
    "print(hesian_A)"
   ]
  },
  {
   "cell_type": "code",
   "execution_count": 3,
   "metadata": {},
   "outputs": [
    {
     "name": "stdout",
     "output_type": "stream",
     "text": [
      "điểm tối ưu:  [-0.53333333 -0.26666667]\n",
      "điểm giá trị:  1.0\n"
     ]
    }
   ],
   "source": [
    "#suy ra: \n",
    "A = np.array([[2,1],[1,0.5],[-2,-1]])\n",
    "b = np.array([-2, 0, 1])\n",
    "diemToiUu , r, hang, giaTriKiDi = np.linalg.lstsq(A, b, rcond=None)\n",
    "diemGiaTri = np.linalg.norm(A @ diemToiUu - b)**2\n",
    "print('điểm tối ưu: ', diemToiUu)\n",
    "print('điểm giá trị: ',diemGiaTri)"
   ]
  },
  {
   "cell_type": "markdown",
   "metadata": {},
   "source": [
    "**Câu 2. (4 điểm)** Theo kết quả nghiên cứu thị trường của hai cửa hàng AT và CT, người ta thấy rằng: Tất cả khách hàng mua hàng ở cửa hàng AT tại một tuần cụ thể thì trong tuần tiếp theo $90\\%$ mua tiếp tục ở AT trong khi $10\\%$ chuyển sang mua ở cửa hàng CT. Giả sử từ một số liệu tương tự cho các khách hàng mua hàng ở CT tại một tuần cụ thể thì trong tuần tiếp theo $80\\%$ mua tiếp tại cửa hàng CT trong khi $20\\%$ chuyển đến mua ở cửa hàng AT.\n",
    "\n",
    "a) Tìm ma trận chuyển trạng thái của hai cửa hàng trên.\n",
    "\n",
    "b) Xác định tỉ lệ cân bằng dừng.\n",
    "\n",
    "c) Giả sử hôm nay ông B mua hàng ở AT, tính xác suất ông B mua hàng ở AT sau 2 tuần nữa.\n",
    "\n",
    "d) Giả sử hôm nay ông B mua hàng ở CT, thì xác suất ông B sau $1$ tháng ($30$ ngày) nữa sẽ chuyển qua AT mua hàng là bao nhiêu?  \n"
   ]
  },
  {
   "cell_type": "code",
   "execution_count": 4,
   "metadata": {},
   "outputs": [
    {
     "name": "stdout",
     "output_type": "stream",
     "text": [
      "ma trận chuyển trạng thái: \n",
      " [[0.9 0.1]\n",
      " [0.2 0.8]]\n"
     ]
    }
   ],
   "source": [
    "P = np.array([[0.9,0.1],[0.2,0.8]])\n",
    "print('ma trận chuyển trạng thái: \\n',P)"
   ]
  },
  {
   "cell_type": "code",
   "execution_count": 21,
   "metadata": {},
   "outputs": [
    {
     "name": "stdout",
     "output_type": "stream",
     "text": [
      "tỉ lệ cân bằng dừng: \n",
      " [0.66666667 0.33333333]\n"
     ]
    }
   ],
   "source": [
    "#b tỉ lệ cân bằng dừng:\n",
    "\n",
    "A = np.array([[0.9-1,0.2],[0.1,0.8-1],[1,1]])\n",
    "B = np.array([0,0,1])\n",
    "pi, *a = np.linalg.lstsq(A,B,rcond=None)\n",
    "print('tỉ lệ cân bằng dừng: \\n', pi)"
   ]
  },
  {
   "cell_type": "code",
   "execution_count": 6,
   "metadata": {},
   "outputs": [
    {
     "name": "stdout",
     "output_type": "stream",
     "text": [
      "xác xuất ông B mua ở AT sau 2 tuần:  0.8300000000000001\n"
     ]
    }
   ],
   "source": [
    "#câu c: \n",
    "#vì mua ở AT nên:\n",
    "from numpy.linalg import matrix_power\n",
    "B_AT = np.array([1,0])\n",
    "C = B_AT @ matrix_power(P,2)\n",
    "print('xác xuất ông B mua ở AT sau 2 tuần: ', C[0])"
   ]
  },
  {
   "cell_type": "code",
   "execution_count": 13,
   "metadata": {},
   "outputs": [
    {
     "name": "stdout",
     "output_type": "stream",
     "text": [
      "xác xuất đến  AT mua  sau khi mua ở CT 30 ngày trước đó:  0.5221083114616498\n"
     ]
    }
   ],
   "source": [
    "#câu d:\n",
    "# vì hôm nay mua ở CT nên\n",
    "from scipy.linalg import fractional_matrix_power\n",
    "B_CT = np.array([0,1])\n",
    "D = B_CT @ fractional_matrix_power(P,30/7)\n",
    "print('xác xuất đến  AT mua  sau khi mua ở CT 30 ngày trước đó: ', D[0])\n"
   ]
  },
  {
   "cell_type": "markdown",
   "metadata": {},
   "source": [
    "**Câu 3. (2 điểm)** Cho ma trận ảnh xám $A \\in \\mathbb{R}^{5 \\times 5}$ (biểu diễn cường độ sáng của ảnh) như sau:\n",
    "\n",
    "\n",
    "$$A = \\begin{bmatrix}\n",
    "22 & 20 & 18 & 24 & 28 \\\\\n",
    "24 & 22 & 20 & 26 & 30 \\\\\n",
    "26 & 24 & 22 & 28 & 32 \\\\\n",
    "28 & 26 & 24 & 30 & 34 \\\\\n",
    "30 & 28 & 26 & 32 & 36 \\\\\n",
    "\\end{bmatrix}.$$\n",
    "\n",
    "a) Tìm các giá trị suy biến của $A$ trong phân rã SVD.\n",
    "  \n",
    "b) Giữ lại hai giá trị suy biến (singular values) lớn nhất để xấp xỉ lại ma trận $A$, gọi ma trận xấp xỉ là $A_2$. Hãy tìm ma trận $A_2$. So sánh ma trận ban đầu $A$ và ma trận xấp xỉ $A_2$, bằng cách tính sai số Frobenius giữa 2 ma trận.\n",
    "\n",
    "Hướng dẫn: Công thức sai số Frobenius giữa 2 ma trận $A$ và $A_k$ là\n",
    "$$\\|A - A_k\\|_F = \\sqrt{ \\sum_{i=1}^{m} \\sum_{j=1}^{n} \\left| a_{ij} - (a_k)_{ij} \\right|^2 }.$$"
   ]
  },
  {
   "cell_type": "code",
   "execution_count": 16,
   "metadata": {},
   "outputs": [
    {
     "name": "stdout",
     "output_type": "stream",
     "text": [
      "[[22 20 18 24 28]\n",
      " [24 22 20 26 30]\n",
      " [26 24 22 28 32]\n",
      " [28 26 24 30 34]\n",
      " [30 28 26 32 36]]\n"
     ]
    }
   ],
   "source": [
    "A = np.array([[22,20,18,24,28],[24,22,20,26,30],[26,24,22,28,32],[28,26,24,30,34],[30,28,26,32,36]])\n",
    "print(A)"
   ]
  },
  {
   "cell_type": "code",
   "execution_count": 18,
   "metadata": {},
   "outputs": [
    {
     "name": "stdout",
     "output_type": "stream",
     "text": [
      "U: \n",
      " [[-0.37847822 -0.67583595  0.63244646  0.00247166  0.00231535]\n",
      " [-0.41161488 -0.36134913 -0.63058047 -0.54567707  0.06785871]\n",
      " [-0.44475153 -0.04686231 -0.32039786  0.77533686  0.31015796]\n",
      " [-0.47788819  0.26762452  0.00275127  0.07647085 -0.83315343]\n",
      " [-0.51102484  0.58211134  0.3157806  -0.3086023   0.45282142]]\n",
      "sigma: \n",
      " [[1.33853262e+02 0.00000000e+00 0.00000000e+00 0.00000000e+00\n",
      "  0.00000000e+00]\n",
      " [0.00000000e+00 1.81774054e+00 0.00000000e+00 0.00000000e+00\n",
      "  0.00000000e+00]\n",
      " [0.00000000e+00 0.00000000e+00 8.32313484e-15 0.00000000e+00\n",
      "  0.00000000e+00]\n",
      " [0.00000000e+00 0.00000000e+00 0.00000000e+00 1.36402284e-16\n",
      "  0.00000000e+00]\n",
      " [0.00000000e+00 0.00000000e+00 0.00000000e+00 0.00000000e+00\n",
      "  1.05703293e-18]]\n",
      "VT: \n",
      " [[-0.43689957 -0.40367277 -0.37044597 -0.47012636 -0.53657996]\n",
      " [ 0.1087266   0.36653185  0.6243371  -0.14907866 -0.66468916]\n",
      " [ 0.25629164 -0.38755017 -0.13918227  0.73861855 -0.46817775]\n",
      " [ 0.04135686 -0.73639107  0.62242387 -0.14531283  0.21792317]\n",
      " [ 0.85434273 -0.10117196 -0.25727377 -0.43598576 -0.05991125]]\n"
     ]
    },
    {
     "data": {
      "text/plain": [
       "array([1.33853262e+02, 1.81774054e+00, 8.32313484e-15, 1.36402284e-16,\n",
       "       1.05703293e-18])"
      ]
     },
     "execution_count": 18,
     "metadata": {},
     "output_type": "execute_result"
    }
   ],
   "source": [
    "U,S,VT = np.linalg.svd(A,full_matrices= False)\n",
    "sigma = np.diag(S)\n",
    "print('U: \\n',U)\n",
    "print('sigma: \\n',sigma)\n",
    "print('VT: \\n',VT)\n",
    "S"
   ]
  },
  {
   "cell_type": "code",
   "execution_count": 19,
   "metadata": {},
   "outputs": [
    {
     "name": "stdout",
     "output_type": "stream",
     "text": [
      "Sai số Frobenius: 2.537145046425895e-14\n"
     ]
    }
   ],
   "source": [
    "U_k = U[:, :2]\n",
    "S_k = np.diag(S[:2])  \n",
    "VT_k = VT[:2, :]\n",
    "\n",
    "A_2 = U_k @ S_k @ VT_k\n",
    "error = np.linalg.norm(A - A_2, 'fro')\n",
    "print(\"Sai số Frobenius:\", error)"
   ]
  },
  {
   "cell_type": "code",
   "execution_count": null,
   "metadata": {},
   "outputs": [],
   "source": []
  }
 ],
 "metadata": {
  "colab": {
   "provenance": []
  },
  "kernelspec": {
   "display_name": "Python 3 (ipykernel)",
   "language": "python",
   "name": "python3"
  },
  "language_info": {
   "codemirror_mode": {
    "name": "ipython",
    "version": 3
   },
   "file_extension": ".py",
   "mimetype": "text/x-python",
   "name": "python",
   "nbconvert_exporter": "python",
   "pygments_lexer": "ipython3",
   "version": "3.11.7"
  }
 },
 "nbformat": 4,
 "nbformat_minor": 4
}
