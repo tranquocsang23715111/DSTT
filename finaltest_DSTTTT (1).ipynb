{
 "cells": [
  {
   "cell_type": "markdown",
   "metadata": {
    "id": "GsccfSDERjBo"
   },
   "source": [
    "# ĐỀ THI CUỐI KỲ\n",
    "## Môn: Đại số tuyến tính tính toán\n",
    "## Ngày: 17/05/2024\n",
    "## Lớp/Lớp học phần: DHKHDL18A\n",
    "## Thời gian: 60 phút"
   ]
  },
  {
   "cell_type": "code",
   "execution_count": 2,
   "metadata": {},
   "outputs": [],
   "source": [
    "import numpy as np\n",
    "from scipy.linalg import lu\n"
   ]
  },
  {
   "cell_type": "markdown",
   "metadata": {},
   "source": [
    "**Câu 1. (2 điểm)** Công ty cây xanh đô thị thực hiện Dự án thay thế các cây già cỗi và cây không đúng chủng loại bởi các cây mới. Công ty thực hiện chương trình trong bốn tháng. Trong mỗi tháng công ty sẽ chặt bỏ 10% tổng số cây xanh trong thành phố tính tới ngày đầu tiên của tháng, đồng thời thực hiện trồng thêm một số cây xanh. Cụ thể trong tháng thứ nhất sẽ trồng thêm 100 cây, tháng thứ hai trồng thêm 102 cây, tháng thứ ba trồng thêm 104 cây, tháng cuối cùng trồng thêm 106 cây. Tại buổi tổng kết Dự án người ta cho biết, tổng số cây hiện tại trong thành phố đã tăng thêm 80 so với trước khi thực hiện Dự án. \n",
    "\n",
    "**a)** Gọi $x_0$ là số cây ban đầu và $x_1,x_2,x_3,x_4$ là số cây tương ứng ở cuối các tháng 1,2,3,4. Đặt $X=\\begin{bmatrix}x_0&x_1&x_2&x_3&x_4\\end{bmatrix}^T$. Dựa vào dữ kiện bài toán, xây dựng hệ phương trình tuyến tính bằng cách xác định ma trận $A$ và vector $b$ thoả $$AX=b.$$ \n",
    "\n",
    "**b)** Hỏi hiện nay thành phố có bao nhiêu cây xanh?"
   ]
  },
  {
   "cell_type": "markdown",
   "metadata": {},
   "source": [
    "#### vì số cây ở tháng trước sẽ bị chặt 10% và được cộng thêm nên:  \n",
    "$$ x_1 = 0.9x_0 + 100 $$\n",
    "$$ x_2 = 0.9x_1 + 102 $$\n",
    "$$ x_3 = 0.9x_2 + 104 $$\n",
    "$$ x_4 = 0.9x_3 + 106 $$\n",
    "$$ x_5 = 0.9x_0 + 80 $$\n"
   ]
  },
  {
   "cell_type": "code",
   "execution_count": 3,
   "metadata": {},
   "outputs": [
    {
     "name": "stdout",
     "output_type": "stream",
     "text": [
      "ma tran a: \n",
      " [[-0.9  1.   0.   0.   0. ]\n",
      " [ 0.  -0.9  1.   0.   0. ]\n",
      " [ 0.   0.  -0.9  1.   0. ]\n",
      " [ 0.   0.   0.  -0.9  1. ]\n",
      " [-1.   0.   0.   0.   1. ]]\n",
      "ma tran b: \n",
      " [100 102 104 106  80]\n"
     ]
    }
   ],
   "source": [
    "A = np.array([[-0.9,1,0,0,0],\n",
    "             [0,-0.9,1,0,0],\n",
    "             [0,0,-0.9,1,0],\n",
    "             [0,0,0,-0.9,1],\n",
    "             [-1,0,0,0,1]])\n",
    "print('ma tran a: \\n',A)\n",
    "b = np.array([100,102,104,106,80])\n",
    "print('ma tran b: \\n',b)"
   ]
  },
  {
   "cell_type": "code",
   "execution_count": 4,
   "metadata": {},
   "outputs": [
    {
     "name": "stdout",
     "output_type": "stream",
     "text": [
      "số cây ban đầu là:  800.0000000000002\n",
      "số cây hiện tại(sau 4 tháng):  880.0000000000002\n"
     ]
    }
   ],
   "source": [
    "X = np.linalg.solve(A,b)\n",
    "x0,x1,x2,x3,x4 = X\n",
    "print('số cây ban đầu là: ',x0)\n",
    "print('số cây hiện tại(sau 4 tháng): ',x4)"
   ]
  },
  {
   "cell_type": "markdown",
   "metadata": {},
   "source": [
    "**Câu 2. (3 điểm)** Cho ma trận $X$ xác định như sau $$X=\\begin{bmatrix}1 & 1 & 1\\\\ 4 &3 &-1\\\\3 & 5 & 3\\end{bmatrix}.$$\n",
    "\n",
    "**a) (1 điểm)** Phát biểu điều kiện để một ma trận vuông $A$ bất kỳ có thể phân rã dưới dạng sau (phân rã LU) $$PA=LU,$$\n",
    "trong đó $P$ là ma trận hoán vị, $L$ và $U$ lần lượt ma trận tam giác dưới và tam giác trên.\n",
    "\n",
    "**b) (2 điểm)** Ma trận $X$ đã cho có phân rã được dưới dạng LU không? Tại sao? Nếu được, hãy tìm ma trận hoán vị $P$ và hai ma trận tam giác dưới và trên $L, U$ thoả $PX=LU$."
   ]
  },
  {
   "cell_type": "markdown",
   "metadata": {},
   "source": [
    "Điều kiện: Ma trận \n",
    "𝐴\n",
    "A không suy biến và có thể phân tích bằng phép khử Gauss có pivoting — tức là tại mỗi bước của quá trình khử Gauss, tồn tại một phần tử khác 0 trong cột đang xét từ dòng hiện tại trở xuống để chọn làm pivot. Khi đó, có thể sử dụng hoán vị các hàng (tức là ma trận \n",
    "𝑃\n",
    "P) để đảm bảo tính khả thi."
   ]
  },
  {
   "cell_type": "code",
   "execution_count": 5,
   "metadata": {},
   "outputs": [
    {
     "name": "stdout",
     "output_type": "stream",
     "text": [
      "[[ 1  1  1]\n",
      " [ 4  3 -1]\n",
      " [ 3  5  3]]\n"
     ]
    }
   ],
   "source": [
    "#cau a:\n",
    "X = np.array([[1,1,1],[4,3,-1],[3,5,3]])\n",
    "print(X)"
   ]
  },
  {
   "cell_type": "code",
   "execution_count": 6,
   "metadata": {},
   "outputs": [
    {
     "name": "stdout",
     "output_type": "stream",
     "text": [
      "[[0. 0. 1.]\n",
      " [1. 0. 0.]\n",
      " [0. 1. 0.]]\n",
      "[[1.         0.         0.        ]\n",
      " [0.75       1.         0.        ]\n",
      " [0.25       0.09090909 1.        ]]\n",
      "[[ 4.          3.         -1.        ]\n",
      " [ 0.          2.75        3.75      ]\n",
      " [ 0.          0.          0.90909091]]\n",
      "[[ 1.  1.  1.]\n",
      " [ 4.  3. -1.]\n",
      " [ 3.  5.  3.]]\n"
     ]
    }
   ],
   "source": [
    "P,L,U = lu(X)\n",
    "print(P)\n",
    "print(L)\n",
    "print(U)\n",
    "print(P@L@U)"
   ]
  },
  {
   "cell_type": "code",
   "execution_count": 7,
   "metadata": {},
   "outputs": [
    {
     "name": "stdout",
     "output_type": "stream",
     "text": [
      "True\n"
     ]
    }
   ],
   "source": [
    "print(np.allclose(np.linalg.inv(P)@X,L@U))"
   ]
  },
  {
   "cell_type": "markdown",
   "metadata": {},
   "source": [
    "**Câu 3. (1 điểm)** Cho $A$ là ma trận vuông cấp $2024$ và vector $b\\in \\mathbb{R}^{2024}$. Xác định điểm tối ưu $x^*\\in \\mathbb{R}^{2024}$ của bài toán sau \n",
    "$$\\text{minimize }\\|Ax-b\\|_2^2+2025\\|x\\|^2_2.$$"
   ]
  },
  {
   "cell_type": "markdown",
   "metadata": {},
   "source": [
    "**Câu 4. (4 điểm)** Hàng năm, Trung tâm công nghệ thông tin quản lý các kỳ thi kiểm tra năng lực về tin học. Các kỳ thi này sẽ xét các sinh viên miễn tham gia khoá học \"Nhập môn tin học\" cho các sinh viên có đủ năng lực. Kết quả kỳ thi có thể được xếp vào một trong các trạng thái sau: \n",
    "\n",
    "*Trạng thái 1:* đạt yêu cầu của bài kiểm tra và được miễn tham gia khoá học. \n",
    "\n",
    "*Trạng thái 2:* không đạt yêu cầu của bài kiểm tra trong lần thi thứ 3 và phải tham gia khoá học.\n",
    "\n",
    "*Trạng thái 3:* không đạt yêu cầu của bài kiểm tra trong lần thi thứ 1.\n",
    "\n",
    "*Trạng thái 4:* không đạt yêu cầu của bài kiểm tra trong lần thi thứ 2.\n",
    "\n",
    "Chuyên gia giám sát kỳ thi tổng hợp số liệu và xây dựng ma trận xác suất chuyển đổi như sau:\n",
    "\n",
    "$$P=\\begin{bmatrix}1 & 0 & 0 & 0\\\\ 0 & 1 & 0 & 0\\\\0.8 & 0 & 0.1 & 0.1\\\\0.2 & 0.2 & 0.4 & 0.2\\end{bmatrix}.$$\n",
    "(Các phần tử trong ma trận $P$ tuân theo thứ tự hàng và cột lần lượt là Trạng thái 1, 2, 3, 4).\n",
    "\n",
    "Hiện tại, có $200$ sinh viên không đạt yêu cầu của bài kiểm tra trong lần thi thứ 1 và $50$ sinh viên không đạt yêu cầu của bài kiểm tra trong lần thi thứ 2.\n",
    "\n",
    "**a)** Giả sử rằng tất cả 250 sinh viên nêu trên tham gia đợt thi tiếp theo, hỏi có bao nhiêu sinh viên phải tham gia khoá học.\n",
    "\n",
    "**b)** Một sinh viên sau kì thi đầu tiên ở *Trạng thái 3*. Hỏi sau ít nhất bao nhiêu lần thi nữa thì sinh viên này sẽ chắc chắn $90\\%$ đạt yêu cầu của bài kiểm tra và được miễn tham gia khoá học.  "
   ]
  },
  {
   "cell_type": "code",
   "execution_count": 11,
   "metadata": {},
   "outputs": [
    {
     "name": "stdout",
     "output_type": "stream",
     "text": [
      "10.0\n"
     ]
    }
   ],
   "source": [
    "import numpy as np\n",
    "from numpy.linalg import matrix_power\n",
    "# Ma trận chuyển xác suất\n",
    "P = np.array([\n",
    "    [1.0, 0.0, 0.0, 0.0],\n",
    "    [0.0, 1.0, 0.0, 0.0],\n",
    "    [0.8, 0.0, 0.1, 0.1],\n",
    "    [0.2, 0.2, 0.4, 0.2]\n",
    "])\n",
    "\n",
    "# Vector trạng thái ban đầu: 200 sinh viên ở S3, 50 ở S4\n",
    "x = np.array([0, 0, 200, 50])\n",
    "\n",
    "# Tính trạng thái sau một lần thi\n",
    "x_next = x @ matrix_power(P,1)\n",
    "print(x_next[1])"
   ]
  },
  {
   "cell_type": "code",
   "execution_count": 10,
   "metadata": {},
   "outputs": [
    {
     "name": "stdout",
     "output_type": "stream",
     "text": [
      "khi thi đến lần 2 thì xác xuất không cần tham gia khóa học là 90%\n"
     ]
    }
   ],
   "source": [
    "# Vector trạng thái ban đầu: chỉ có 1 sinh viên ở trạng thái S3\n",
    "v = np.array([0, 0, 1, 0])\n",
    "x = 1\n",
    "while True:\n",
    "    p_n = v @ matrix_power(P,x)\n",
    "    if (p_n[0] >= 0.9):\n",
    "        print(f'khi thi đến lần {x} thì xác xuất không cần tham gia khóa học là 90%')\n",
    "        break\n",
    "\n",
    "    x +=1\n",
    "    "
   ]
  },
  {
   "cell_type": "markdown",
   "metadata": {},
   "source": [
    "## -------------------------------------------- Hết -----------------------------------------------"
   ]
  },
  {
   "cell_type": "markdown",
   "metadata": {},
   "source": [
    "### Lưu ý: Sinh viên không được sử dụng internet. Giám thị không giải thích gì thêm."
   ]
  }
 ],
 "metadata": {
  "colab": {
   "provenance": []
  },
  "kernelspec": {
   "display_name": "Python 3 (ipykernel)",
   "language": "python",
   "name": "python3"
  },
  "language_info": {
   "codemirror_mode": {
    "name": "ipython",
    "version": 3
   },
   "file_extension": ".py",
   "mimetype": "text/x-python",
   "name": "python",
   "nbconvert_exporter": "python",
   "pygments_lexer": "ipython3",
   "version": "3.11.7"
  }
 },
 "nbformat": 4,
 "nbformat_minor": 4
}
